{
 "cells": [
  {
   "cell_type": "code",
   "execution_count": 23,
   "metadata": {},
   "outputs": [],
   "source": [
    "from pathlib import Path\n",
    "import numpy as np\n",
    "import pandas as pd\n",
    "from sklearn.linear_model import LinearRegression\n",
    "from scipy.stats import norm\n",
    "from scipy.stats import pearsonr"
   ]
  },
  {
   "cell_type": "code",
   "execution_count": 24,
   "metadata": {},
   "outputs": [],
   "source": [
    "srcfld = Path(\"C:/git/py/tlak\")\n",
    "dstfld = Path(\"C:/git/py/tlak\")\n",
    "\n",
    "srcfile = \"tlak.xlsx\"\n",
    "dstfile = \"tlak.xlsx\"\n",
    "\n",
    "srcpath = srcfld / srcfile\n",
    "dstpath = dstfld / dstfile"
   ]
  },
  {
   "cell_type": "code",
   "execution_count": 25,
   "metadata": {},
   "outputs": [],
   "source": [
    "xl = pd.ExcelFile(srcpath)\n",
    "df = xl.parse('mix', usecols = [0, 1, 2])\n",
    "xl.close()\n",
    "data_orig = df[df.columns[0:3]].to_numpy()"
   ]
  },
  {
   "cell_type": "code",
   "execution_count": 26,
   "metadata": {},
   "outputs": [],
   "source": [
    "# Extract sys and dia columns from the data\n",
    "sys_orig = data_orig[:, 0]\n",
    "dia_orig = data_orig[:, 1]\n",
    "pulse_orig = data_orig[:, 2]\n",
    "\n",
    "# Prepare the feature matrix X with sys and dia values\n",
    "X_orig = np.column_stack((sys_orig, dia_orig))\n",
    "\n"
   ]
  },
  {
   "cell_type": "code",
   "execution_count": 27,
   "metadata": {},
   "outputs": [
    {
     "data": {
      "text/html": [
       "<style>#sk-container-id-2 {color: black;background-color: white;}#sk-container-id-2 pre{padding: 0;}#sk-container-id-2 div.sk-toggleable {background-color: white;}#sk-container-id-2 label.sk-toggleable__label {cursor: pointer;display: block;width: 100%;margin-bottom: 0;padding: 0.3em;box-sizing: border-box;text-align: center;}#sk-container-id-2 label.sk-toggleable__label-arrow:before {content: \"▸\";float: left;margin-right: 0.25em;color: #696969;}#sk-container-id-2 label.sk-toggleable__label-arrow:hover:before {color: black;}#sk-container-id-2 div.sk-estimator:hover label.sk-toggleable__label-arrow:before {color: black;}#sk-container-id-2 div.sk-toggleable__content {max-height: 0;max-width: 0;overflow: hidden;text-align: left;background-color: #f0f8ff;}#sk-container-id-2 div.sk-toggleable__content pre {margin: 0.2em;color: black;border-radius: 0.25em;background-color: #f0f8ff;}#sk-container-id-2 input.sk-toggleable__control:checked~div.sk-toggleable__content {max-height: 200px;max-width: 100%;overflow: auto;}#sk-container-id-2 input.sk-toggleable__control:checked~label.sk-toggleable__label-arrow:before {content: \"▾\";}#sk-container-id-2 div.sk-estimator input.sk-toggleable__control:checked~label.sk-toggleable__label {background-color: #d4ebff;}#sk-container-id-2 div.sk-label input.sk-toggleable__control:checked~label.sk-toggleable__label {background-color: #d4ebff;}#sk-container-id-2 input.sk-hidden--visually {border: 0;clip: rect(1px 1px 1px 1px);clip: rect(1px, 1px, 1px, 1px);height: 1px;margin: -1px;overflow: hidden;padding: 0;position: absolute;width: 1px;}#sk-container-id-2 div.sk-estimator {font-family: monospace;background-color: #f0f8ff;border: 1px dotted black;border-radius: 0.25em;box-sizing: border-box;margin-bottom: 0.5em;}#sk-container-id-2 div.sk-estimator:hover {background-color: #d4ebff;}#sk-container-id-2 div.sk-parallel-item::after {content: \"\";width: 100%;border-bottom: 1px solid gray;flex-grow: 1;}#sk-container-id-2 div.sk-label:hover label.sk-toggleable__label {background-color: #d4ebff;}#sk-container-id-2 div.sk-serial::before {content: \"\";position: absolute;border-left: 1px solid gray;box-sizing: border-box;top: 0;bottom: 0;left: 50%;z-index: 0;}#sk-container-id-2 div.sk-serial {display: flex;flex-direction: column;align-items: center;background-color: white;padding-right: 0.2em;padding-left: 0.2em;position: relative;}#sk-container-id-2 div.sk-item {position: relative;z-index: 1;}#sk-container-id-2 div.sk-parallel {display: flex;align-items: stretch;justify-content: center;background-color: white;position: relative;}#sk-container-id-2 div.sk-item::before, #sk-container-id-2 div.sk-parallel-item::before {content: \"\";position: absolute;border-left: 1px solid gray;box-sizing: border-box;top: 0;bottom: 0;left: 50%;z-index: -1;}#sk-container-id-2 div.sk-parallel-item {display: flex;flex-direction: column;z-index: 1;position: relative;background-color: white;}#sk-container-id-2 div.sk-parallel-item:first-child::after {align-self: flex-end;width: 50%;}#sk-container-id-2 div.sk-parallel-item:last-child::after {align-self: flex-start;width: 50%;}#sk-container-id-2 div.sk-parallel-item:only-child::after {width: 0;}#sk-container-id-2 div.sk-dashed-wrapped {border: 1px dashed gray;margin: 0 0.4em 0.5em 0.4em;box-sizing: border-box;padding-bottom: 0.4em;background-color: white;}#sk-container-id-2 div.sk-label label {font-family: monospace;font-weight: bold;display: inline-block;line-height: 1.2em;}#sk-container-id-2 div.sk-label-container {text-align: center;}#sk-container-id-2 div.sk-container {/* jupyter's `normalize.less` sets `[hidden] { display: none; }` but bootstrap.min.css set `[hidden] { display: none !important; }` so we also need the `!important` here to be able to override the default hidden behavior on the sphinx rendered scikit-learn.org. See: https://github.com/scikit-learn/scikit-learn/issues/21755 */display: inline-block !important;position: relative;}#sk-container-id-2 div.sk-text-repr-fallback {display: none;}</style><div id=\"sk-container-id-2\" class=\"sk-top-container\"><div class=\"sk-text-repr-fallback\"><pre>LinearRegression()</pre><b>In a Jupyter environment, please rerun this cell to show the HTML representation or trust the notebook. <br />On GitHub, the HTML representation is unable to render, please try loading this page with nbviewer.org.</b></div><div class=\"sk-container\" hidden><div class=\"sk-item\"><div class=\"sk-estimator sk-toggleable\"><input class=\"sk-toggleable__control sk-hidden--visually\" id=\"sk-estimator-id-2\" type=\"checkbox\" checked><label for=\"sk-estimator-id-2\" class=\"sk-toggleable__label sk-toggleable__label-arrow\">LinearRegression</label><div class=\"sk-toggleable__content\"><pre>LinearRegression()</pre></div></div></div></div></div>"
      ],
      "text/plain": [
       "LinearRegression()"
      ]
     },
     "execution_count": 27,
     "metadata": {},
     "output_type": "execute_result"
    }
   ],
   "source": [
    "# Fit  linear regression models\n",
    "model_sys_to_dia = LinearRegression()\n",
    "model_sys_to_dia .fit(sys_orig.reshape(-1, 1), dia_orig)\n",
    "\n",
    "model_dia_to_sys = LinearRegression()\n",
    "model_dia_to_sys.fit(dia_orig.reshape(-1, 1), sys_orig)\n",
    "\n",
    "model_dia_sys_to_pulse = LinearRegression()\n",
    "model_dia_sys_to_pulse.fit(X_orig, pulse_orig)"
   ]
  },
  {
   "cell_type": "code",
   "execution_count": null,
   "metadata": {},
   "outputs": [],
   "source": []
  },
  {
   "cell_type": "code",
   "execution_count": 28,
   "metadata": {},
   "outputs": [],
   "source": [
    "\n",
    "dia_morning = [96, 92, 98, 99, 97, 94, 99, 94, 98, 90, 98, 90, 90, 92, 88, 91, 83, 87, 95, 95, 92, 93, 83, 79, 89, 88, 87, 89, 88, 88, 81, 87, 81, 81, 81, ]\n",
    "dia_evening = [99, 93, 89, 82, 84, 94, 92, 86, 90, 86, 95, 91, 89, 89, 90, ]\n",
    "\n",
    "sys_morning = [134, 132, 132, 128, 139, 137, 139, 141, 140, 120, 128, 131, 137, 125, 124, 125, 128, 123, 131, 133, 128, 129, 129, 119, 125, 125, 124, 126, 124, 126, 125, 120, 108, 106, 115]\n",
    "sys_evening = [137, 124, 135, 120, 122, 124, 128, 120, 136, 135, 140, 132, 132, 132, 132]\n"
   ]
  },
  {
   "cell_type": "code",
   "execution_count": 29,
   "metadata": {},
   "outputs": [],
   "source": [
    "# override (optionally) sys_orig and dia_orig input values\n",
    "\n",
    "# sys_orig = \n",
    "dia_orig = dia_morning # dia_evening"
   ]
  },
  {
   "cell_type": "code",
   "execution_count": 30,
   "metadata": {},
   "outputs": [],
   "source": [
    "# generate sys and dia input values\n",
    "\n",
    "size = 50\n",
    "\n",
    "mean_sys_orig = np.mean(sys_orig)\n",
    "std_sys_orig = np.std(sys_orig)\n",
    "\n",
    "sys_values = np.random.normal(loc=mean_sys_orig, scale=std_sys_orig, size=size)\n",
    "sys_values = sys_values.astype(int)\n",
    "\n",
    "mean_dia_orig = np.mean(dia_orig)\n",
    "std_dia_orig = np.std(dia_orig)\n",
    "\n",
    "dia_values = np.random.normal(loc=mean_dia_orig, scale=std_dia_orig, size=size)\n",
    "dia_values = dia_values.astype(int)"
   ]
  },
  {
   "cell_type": "code",
   "execution_count": 31,
   "metadata": {},
   "outputs": [],
   "source": [
    "# override (optionally) sys and dia input values\n",
    "\n"
   ]
  },
  {
   "cell_type": "raw",
   "metadata": {},
   "source": [
    "sys_dia_values = np.column_stack((sys_values, dia_values))\n",
    "\n",
    "# Predict values \n",
    "dia_predicted = model_sys_to_dia.predict(np.array(sys_values).reshape(-1, 1))\n",
    "sys_predicted = model_dia_to_sys.predict(np.array(dia_values).reshape(-1, 1))\n",
    "pulse_predicted = model_dia_sys_to_pulse.predict(sys_dia_values)\n",
    "\n",
    "\n",
    "\n",
    "# print(dia_values, sys_values)\n",
    "# print(dia_predicted, sys_predicted, pulse_predicted )"
   ]
  },
  {
   "attachments": {},
   "cell_type": "markdown",
   "metadata": {},
   "source": [
    "dia given , sys and pulse predicted"
   ]
  },
  {
   "cell_type": "code",
   "execution_count": 32,
   "metadata": {},
   "outputs": [
    {
     "data": {
      "text/plain": [
       "array([129.96,  89.06,  72.22])"
      ]
     },
     "execution_count": 32,
     "metadata": {},
     "output_type": "execute_result"
    }
   ],
   "source": [
    "# dia given , sys and pulse predicted\n",
    "\n",
    "\n",
    "# Predict values \n",
    "sys_predicted = model_dia_to_sys.predict(np.array(dia_values).reshape(-1, 1))\n",
    "sys_dia_values = np.column_stack((sys_predicted, dia_values))\n",
    "pulse_predicted = model_dia_sys_to_pulse.predict(sys_dia_values)\n",
    "\n",
    "sys_out = sys_predicted.astype(int) \n",
    "dia_out = dia_values \n",
    "pulse_out = pulse_predicted.astype(int)\n",
    "\n",
    "# sys_out, dia_out, pulse_out\n",
    "np_out = np.column_stack((sys_out, dia_out, pulse_out))\n",
    "np_out.mean(axis=0)"
   ]
  },
  {
   "cell_type": "markdown",
   "metadata": {},
   "source": [
    "sys given , dia and pulse predicted"
   ]
  },
  {
   "cell_type": "code",
   "execution_count": 33,
   "metadata": {},
   "outputs": [
    {
     "data": {
      "text/plain": [
       "array([130.48,  89.24,  72.58])"
      ]
     },
     "execution_count": 33,
     "metadata": {},
     "output_type": "execute_result"
    }
   ],
   "source": [
    "# sys given , dia and pulse predicted\n",
    "\n",
    "# Predict values \n",
    "dia_predicted = model_sys_to_dia.predict(np.array(sys_values).reshape(-1, 1))\n",
    "sys_dia_values = np.column_stack((sys_values, dia_predicted))\n",
    "pulse_predicted = model_dia_sys_to_pulse.predict(sys_dia_values)\n",
    "\n",
    "sys_out = sys_values\n",
    "dia_out = dia_predicted.astype(int)\n",
    "pulse_out = pulse_predicted.astype(int)\n",
    "\n",
    "# sys_out, dia_out, pulse_out\n",
    "\n",
    "np_out = np.column_stack((sys_out, dia_out, pulse_out))\n",
    "np_out.mean(axis=0)"
   ]
  }
 ],
 "metadata": {
  "kernelspec": {
   "display_name": "Python 3",
   "language": "python",
   "name": "python3"
  },
  "language_info": {
   "codemirror_mode": {
    "name": "ipython",
    "version": 3
   },
   "file_extension": ".py",
   "mimetype": "text/x-python",
   "name": "python",
   "nbconvert_exporter": "python",
   "pygments_lexer": "ipython3",
   "version": "3.10.5"
  },
  "orig_nbformat": 4
 },
 "nbformat": 4,
 "nbformat_minor": 2
}
