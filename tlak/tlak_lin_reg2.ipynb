{
 "cells": [
  {
   "cell_type": "code",
   "execution_count": 7,
   "metadata": {},
   "outputs": [],
   "source": [
    "from pathlib import Path\n",
    "import numpy as np\n",
    "import pandas as pd\n",
    "from sklearn.linear_model import LinearRegression"
   ]
  },
  {
   "cell_type": "code",
   "execution_count": 16,
   "metadata": {},
   "outputs": [],
   "source": [
    "srcfld = Path(\"C:/git/py/tlak\")\n",
    "dstfld = Path(\"C:/git/py/tlak\")\n",
    "\n",
    "srcfile = \"tlak.xlsx\"\n",
    "dstfile = \"tlak_out.xlsx\"\n",
    "\n",
    "srcpath = srcfld / srcfile\n",
    "dstpath = dstfld / dstfile"
   ]
  },
  {
   "cell_type": "code",
   "execution_count": 9,
   "metadata": {},
   "outputs": [],
   "source": [
    "xl = pd.ExcelFile(srcpath)\n",
    "df = xl.parse('mix', usecols = [0, 1, 2])\n",
    "xl.close()\n",
    "data_orig = df[df.columns[0:3]].to_numpy()"
   ]
  },
  {
   "cell_type": "code",
   "execution_count": 10,
   "metadata": {},
   "outputs": [],
   "source": [
    "# Extract sys and dia columns from the data\n",
    "sys_orig = data_orig[:, 0]\n",
    "dia_orig = data_orig[:, 1]\n",
    "pulse_orig = data_orig[:, 2]\n",
    "\n",
    "# Prepare the feature matrix X with sys and dia values\n",
    "X_orig = np.column_stack((sys_orig, dia_orig))"
   ]
  },
  {
   "cell_type": "code",
   "execution_count": 11,
   "metadata": {},
   "outputs": [
    {
     "data": {
      "text/html": [
       "<style>#sk-container-id-1 {color: black;background-color: white;}#sk-container-id-1 pre{padding: 0;}#sk-container-id-1 div.sk-toggleable {background-color: white;}#sk-container-id-1 label.sk-toggleable__label {cursor: pointer;display: block;width: 100%;margin-bottom: 0;padding: 0.3em;box-sizing: border-box;text-align: center;}#sk-container-id-1 label.sk-toggleable__label-arrow:before {content: \"▸\";float: left;margin-right: 0.25em;color: #696969;}#sk-container-id-1 label.sk-toggleable__label-arrow:hover:before {color: black;}#sk-container-id-1 div.sk-estimator:hover label.sk-toggleable__label-arrow:before {color: black;}#sk-container-id-1 div.sk-toggleable__content {max-height: 0;max-width: 0;overflow: hidden;text-align: left;background-color: #f0f8ff;}#sk-container-id-1 div.sk-toggleable__content pre {margin: 0.2em;color: black;border-radius: 0.25em;background-color: #f0f8ff;}#sk-container-id-1 input.sk-toggleable__control:checked~div.sk-toggleable__content {max-height: 200px;max-width: 100%;overflow: auto;}#sk-container-id-1 input.sk-toggleable__control:checked~label.sk-toggleable__label-arrow:before {content: \"▾\";}#sk-container-id-1 div.sk-estimator input.sk-toggleable__control:checked~label.sk-toggleable__label {background-color: #d4ebff;}#sk-container-id-1 div.sk-label input.sk-toggleable__control:checked~label.sk-toggleable__label {background-color: #d4ebff;}#sk-container-id-1 input.sk-hidden--visually {border: 0;clip: rect(1px 1px 1px 1px);clip: rect(1px, 1px, 1px, 1px);height: 1px;margin: -1px;overflow: hidden;padding: 0;position: absolute;width: 1px;}#sk-container-id-1 div.sk-estimator {font-family: monospace;background-color: #f0f8ff;border: 1px dotted black;border-radius: 0.25em;box-sizing: border-box;margin-bottom: 0.5em;}#sk-container-id-1 div.sk-estimator:hover {background-color: #d4ebff;}#sk-container-id-1 div.sk-parallel-item::after {content: \"\";width: 100%;border-bottom: 1px solid gray;flex-grow: 1;}#sk-container-id-1 div.sk-label:hover label.sk-toggleable__label {background-color: #d4ebff;}#sk-container-id-1 div.sk-serial::before {content: \"\";position: absolute;border-left: 1px solid gray;box-sizing: border-box;top: 0;bottom: 0;left: 50%;z-index: 0;}#sk-container-id-1 div.sk-serial {display: flex;flex-direction: column;align-items: center;background-color: white;padding-right: 0.2em;padding-left: 0.2em;position: relative;}#sk-container-id-1 div.sk-item {position: relative;z-index: 1;}#sk-container-id-1 div.sk-parallel {display: flex;align-items: stretch;justify-content: center;background-color: white;position: relative;}#sk-container-id-1 div.sk-item::before, #sk-container-id-1 div.sk-parallel-item::before {content: \"\";position: absolute;border-left: 1px solid gray;box-sizing: border-box;top: 0;bottom: 0;left: 50%;z-index: -1;}#sk-container-id-1 div.sk-parallel-item {display: flex;flex-direction: column;z-index: 1;position: relative;background-color: white;}#sk-container-id-1 div.sk-parallel-item:first-child::after {align-self: flex-end;width: 50%;}#sk-container-id-1 div.sk-parallel-item:last-child::after {align-self: flex-start;width: 50%;}#sk-container-id-1 div.sk-parallel-item:only-child::after {width: 0;}#sk-container-id-1 div.sk-dashed-wrapped {border: 1px dashed gray;margin: 0 0.4em 0.5em 0.4em;box-sizing: border-box;padding-bottom: 0.4em;background-color: white;}#sk-container-id-1 div.sk-label label {font-family: monospace;font-weight: bold;display: inline-block;line-height: 1.2em;}#sk-container-id-1 div.sk-label-container {text-align: center;}#sk-container-id-1 div.sk-container {/* jupyter's `normalize.less` sets `[hidden] { display: none; }` but bootstrap.min.css set `[hidden] { display: none !important; }` so we also need the `!important` here to be able to override the default hidden behavior on the sphinx rendered scikit-learn.org. See: https://github.com/scikit-learn/scikit-learn/issues/21755 */display: inline-block !important;position: relative;}#sk-container-id-1 div.sk-text-repr-fallback {display: none;}</style><div id=\"sk-container-id-1\" class=\"sk-top-container\"><div class=\"sk-text-repr-fallback\"><pre>LinearRegression()</pre><b>In a Jupyter environment, please rerun this cell to show the HTML representation or trust the notebook. <br />On GitHub, the HTML representation is unable to render, please try loading this page with nbviewer.org.</b></div><div class=\"sk-container\" hidden><div class=\"sk-item\"><div class=\"sk-estimator sk-toggleable\"><input class=\"sk-toggleable__control sk-hidden--visually\" id=\"sk-estimator-id-1\" type=\"checkbox\" checked><label for=\"sk-estimator-id-1\" class=\"sk-toggleable__label sk-toggleable__label-arrow\">LinearRegression</label><div class=\"sk-toggleable__content\"><pre>LinearRegression()</pre></div></div></div></div></div>"
      ],
      "text/plain": [
       "LinearRegression()"
      ]
     },
     "execution_count": 11,
     "metadata": {},
     "output_type": "execute_result"
    }
   ],
   "source": [
    "# Fit  linear regression models\n",
    "model_sys_to_dia = LinearRegression()\n",
    "model_sys_to_dia .fit(sys_orig.reshape(-1, 1), dia_orig)\n",
    "\n",
    "model_dia_to_sys = LinearRegression()\n",
    "model_dia_to_sys.fit(dia_orig.reshape(-1, 1), sys_orig)\n",
    "\n",
    "model_dia_sys_to_pulse = LinearRegression()\n",
    "model_dia_sys_to_pulse.fit(X_orig, pulse_orig)"
   ]
  },
  {
   "cell_type": "code",
   "execution_count": 12,
   "metadata": {},
   "outputs": [],
   "source": [
    "dia_morning = [84, 88, 85, 86, 81, 87, 85, 93, 93, 87, 92, 87, 90, 84, 82, 82, 90, 87, 86, 82, 86, 90, 84, 104, 81, 95, 115, 98, 84, 88, 100, 98, 86, 88, 99, 90, 90, 89, 88, 98, 93, 94, 81, 97, 83, 82, 83, 81]\n",
    "dia_evening = [89, 95, 89, 95, 91, 86, 94, 93, 98, 105, 81, 102, 82, 102, 87, 88, 87, 99, 89, 92, 89, 87, 103, 91, 89, 85, 91, 90, 93, 100, 98, 89, 96, 94, 94, 101, 96, 97, 100]"
   ]
  },
  {
   "cell_type": "code",
   "execution_count": 13,
   "metadata": {},
   "outputs": [],
   "source": [
    "def get_sys_pulse (dia_orig, model_dia_to_sys ):\n",
    "    \n",
    "    # generate dia input values\n",
    "    size = 50\n",
    "\n",
    "    mean_dia_orig = np.mean(dia_orig)\n",
    "    std_dia_orig = np.std(dia_orig)\n",
    "\n",
    "    dia_values = np.random.normal(loc=mean_dia_orig, scale=std_dia_orig, size=size)\n",
    "    dia_values = dia_values.astype(int)\n",
    "\n",
    "    # Predict values \n",
    "    sys_predicted = model_dia_to_sys.predict(np.array(dia_values).reshape(-1, 1))\n",
    "    sys_dia_values = np.column_stack((sys_predicted, dia_values))\n",
    "    pulse_predicted = model_dia_sys_to_pulse.predict(sys_dia_values)\n",
    "\n",
    "    sys_out = sys_predicted.astype(int) \n",
    "    dia_out = dia_values \n",
    "    pulse_out = pulse_predicted.astype(int)\n",
    "\n",
    "    # sys_out, dia_out, pulse_out\n",
    "    np_out = np.column_stack((sys_out, dia_out, pulse_out))\n",
    "    print(np_out.mean(axis=0))\n",
    "\n",
    "    return np_out\n",
    "\n"
   ]
  },
  {
   "cell_type": "code",
   "execution_count": 14,
   "metadata": {},
   "outputs": [
    {
     "name": "stdout",
     "output_type": "stream",
     "text": [
      "[131.    88.    68.86]\n",
      "[134.18  92.84  71.2 ]\n"
     ]
    }
   ],
   "source": [
    "np_morning_out = get_sys_pulse (dia_morning , model_dia_to_sys )\n",
    "np_evening_out = get_sys_pulse (dia_evening , model_dia_to_sys )"
   ]
  },
  {
   "cell_type": "code",
   "execution_count": 15,
   "metadata": {},
   "outputs": [],
   "source": [
    "combined_array = np.hstack((np_morning_out, np_evening_out))\n",
    "\n",
    "columns = ['sys_m', 'dia_m', 'pulse_m', 'sys_e', 'dia_e', 'pulse_e']\n",
    "df_out = pd.DataFrame(combined_array, columns=columns)\n",
    "\n",
    "with pd.ExcelWriter(dstpath) as writer:  \n",
    "    df_out.to_excel(writer, sheet_name='Tlak_dia_to_sys_pulse')\n",
    "    # df2.to_excel(writer, sheet_name='Sheet_name_2')"
   ]
  }
 ],
 "metadata": {
  "kernelspec": {
   "display_name": "Python 3",
   "language": "python",
   "name": "python3"
  },
  "language_info": {
   "codemirror_mode": {
    "name": "ipython",
    "version": 3
   },
   "file_extension": ".py",
   "mimetype": "text/x-python",
   "name": "python",
   "nbconvert_exporter": "python",
   "pygments_lexer": "ipython3",
   "version": "3.10.5"
  },
  "orig_nbformat": 4
 },
 "nbformat": 4,
 "nbformat_minor": 2
}
