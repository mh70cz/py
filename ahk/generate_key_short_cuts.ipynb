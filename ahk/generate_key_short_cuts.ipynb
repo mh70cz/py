{
 "cells": [
  {
   "cell_type": "code",
   "execution_count": 9,
   "metadata": {},
   "outputs": [],
   "source": [
    "src =\"\"\"\n",
    "Ä=Ae\n",
    "ä=ae\n",
    "ö=oe\n",
    "Ö=Oe\n",
    "ü=ue\n",
    "Ü=Ue\n",
    "ß=sz\n",
    "\"\"\"\n",
    "\n",
    "patt= \"\"\"\n",
    "::;{key}::\n",
    "::ů{key}::\n",
    "SendInput {out}\n",
    "return\n",
    "\"\"\""
   ]
  },
  {
   "cell_type": "code",
   "execution_count": 7,
   "metadata": {},
   "outputs": [],
   "source": [
    "src_list = src.strip().splitlines()"
   ]
  },
  {
   "cell_type": "code",
   "execution_count": 10,
   "metadata": {},
   "outputs": [
    {
     "name": "stdout",
     "output_type": "stream",
     "text": [
      "\n",
      "::;Ae::\n",
      "::ůAe::\n",
      "SendInput Ä\n",
      "return\n",
      "\n",
      "\n",
      "::;ae::\n",
      "::ůae::\n",
      "SendInput ä\n",
      "return\n",
      "\n",
      "\n",
      "::;oe::\n",
      "::ůoe::\n",
      "SendInput ö\n",
      "return\n",
      "\n",
      "\n",
      "::;Oe::\n",
      "::ůOe::\n",
      "SendInput Ö\n",
      "return\n",
      "\n",
      "\n",
      "::;ue::\n",
      "::ůue::\n",
      "SendInput ü\n",
      "return\n",
      "\n",
      "\n",
      "::;Ue::\n",
      "::ůUe::\n",
      "SendInput Ü\n",
      "return\n",
      "\n",
      "\n",
      "::;sz::\n",
      "::ůsz::\n",
      "SendInput ß\n",
      "return\n",
      "\n"
     ]
    }
   ],
   "source": [
    "for x in src_list:\n",
    "    key = x[2:]\n",
    "    out = x[0]\n",
    "    print (patt.format(key=key,out=out))"
   ]
  }
 ],
 "metadata": {
  "kernelspec": {
   "display_name": "Python 3",
   "language": "python",
   "name": "python3"
  },
  "language_info": {
   "codemirror_mode": {
    "name": "ipython",
    "version": 3
   },
   "file_extension": ".py",
   "mimetype": "text/x-python",
   "name": "python",
   "nbconvert_exporter": "python",
   "pygments_lexer": "ipython3",
   "version": "3.10.5"
  },
  "orig_nbformat": 4
 },
 "nbformat": 4,
 "nbformat_minor": 2
}
