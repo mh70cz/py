{
 "cells": [
  {
   "cell_type": "code",
   "execution_count": 1,
   "metadata": {},
   "outputs": [],
   "source": [
    "from pathlib import Path\n",
    "import numpy as np\n",
    "import pandas as pd\n",
    "from scipy.stats import norm\n",
    "from scipy.stats import pearsonr\n"
   ]
  },
  {
   "cell_type": "raw",
   "metadata": {},
   "source": [
    "# Generate a random dataset with correlated values\n",
    "np.random.seed(0)\n",
    "n_samples = 1000\n",
    "mean = [0, 0]\n",
    "cov = [[1, 0.5], [0.5, 1]]\n",
    "data = np.random.multivariate_normal(mean, cov, size=n_samples)\n",
    "\n"
   ]
  },
  {
   "cell_type": "code",
   "execution_count": 2,
   "metadata": {},
   "outputs": [],
   "source": [
    "srcfld = Path(\"C:/git/py/tlak\")\n",
    "dstfld = Path(\"C:/git/py/tlak\")\n",
    "\n",
    "srcfile = \"tlak.xlsx\"\n",
    "dstfile = \"tlak_out.xlsx\"\n",
    "\n",
    "srcpath = srcfld / srcfile\n",
    "dstpath = dstfld / dstfile"
   ]
  },
  {
   "cell_type": "code",
   "execution_count": 3,
   "metadata": {},
   "outputs": [],
   "source": [
    "xl = pd.ExcelFile(srcpath)\n",
    "df = xl.parse('morning', usecols = [0, 1, ])\n",
    "xl.close()\n",
    "original_data = df[df.columns[0:2]].to_numpy()\n"
   ]
  },
  {
   "cell_type": "code",
   "execution_count": 4,
   "metadata": {},
   "outputs": [],
   "source": [
    "# Scale and shift original data to the range of 0 to 1\n",
    "min_value = np.min(original_data, axis=0)\n",
    "max_value = np.max(original_data, axis=0)\n",
    "range_value = max_value - min_value\n",
    "scaled_data = (original_data - min_value) / range_value"
   ]
  },
  {
   "cell_type": "code",
   "execution_count": 5,
   "metadata": {},
   "outputs": [],
   "source": [
    "# Calculate correlation coefficient\n",
    "corr_coefficient, _ = pearsonr(scaled_data[:, 0], scaled_data[:, 1])\n",
    "\n",
    "# Fit a Gaussian copula to the data\n",
    "copula_data = pd.DataFrame(scaled_data, columns=['x1', 'x2'])\n",
    "\n"
   ]
  },
  {
   "cell_type": "code",
   "execution_count": 6,
   "metadata": {},
   "outputs": [
    {
     "name": "stdout",
     "output_type": "stream",
     "text": [
      "Original correlation coefficient: 0.5704726278903476\n",
      "Generated correlation coefficient: 0.21044768303298925\n"
     ]
    }
   ],
   "source": [
    "# Transform the data into uniform space using rank transformation\n",
    "copula_data['u1'] = norm.cdf(copula_data['x1'])\n",
    "copula_data['u2'] = norm.cdf(copula_data['x2'])\n",
    "\n",
    "# Generate new samples in uniform space\n",
    "n_new_samples = len(original_data)\n",
    "u1_new = np.random.uniform(0, 1, size=n_new_samples)\n",
    "u2_new = np.random.uniform(0, 1, size=n_new_samples)\n",
    "\n",
    "#  Apply the inverse CDF of the copula to obtain new samples\n",
    "x1_new = norm.ppf(u1_new)\n",
    "x2_new = norm.ppf(u2_new)\n",
    "\n",
    "# Calculate the correlation coefficient of the generated samples\n",
    "corr_coefficient_new, _ = pearsonr(x1_new, x2_new)\n",
    "\n",
    "print(\"Original correlation coefficient:\", corr_coefficient)\n",
    "print(\"Generated correlation coefficient:\", corr_coefficient_new)"
   ]
  },
  {
   "cell_type": "code",
   "execution_count": 7,
   "metadata": {},
   "outputs": [],
   "source": [
    "# Scale and shift the generated samples back to the original range of values\n",
    "new_data = np.zeros_like(scaled_data)\n",
    "new_data[:, 0] = u1_new * range_value[0] + min_value[0]\n",
    "new_data[:, 1] = u2_new * range_value[1] + min_value[1]\n",
    "# new_data = np.clip(new_data, 80, 150)  # Apply range constraints"
   ]
  },
  {
   "cell_type": "code",
   "execution_count": 8,
   "metadata": {},
   "outputs": [],
   "source": [
    "min_dia = 80\n",
    "max_dia = 105\n",
    "\n",
    "out_data  = new_data[((new_data[:,1] >= min_dia) & (new_data[:,1] <= max_dia))]"
   ]
  },
  {
   "cell_type": "code",
   "execution_count": 9,
   "metadata": {},
   "outputs": [
    {
     "name": "stdout",
     "output_type": "stream",
     "text": [
      "[112.53940909  81.42093755] [149.61977262 112.51686083] [130.61470681  95.28225253]\n",
      "[112.53940909  81.42093755] [149.61977262 104.39178852] [129.33198797  92.98178466]\n"
     ]
    }
   ],
   "source": [
    "print(new_data.min(axis=0) , new_data.max(axis=0), new_data.mean(axis=0))\n",
    "print(out_data.min(axis=0) , out_data.max(axis=0), out_data.mean(axis=0))"
   ]
  },
  {
   "cell_type": "code",
   "execution_count": 10,
   "metadata": {},
   "outputs": [],
   "source": [
    "out_data = out_data.round(0)"
   ]
  }
 ],
 "metadata": {
  "kernelspec": {
   "display_name": "Python 3",
   "language": "python",
   "name": "python3"
  },
  "language_info": {
   "codemirror_mode": {
    "name": "ipython",
    "version": 3
   },
   "file_extension": ".py",
   "mimetype": "text/x-python",
   "name": "python",
   "nbconvert_exporter": "python",
   "pygments_lexer": "ipython3",
   "version": "3.10.5"
  },
  "orig_nbformat": 4
 },
 "nbformat": 4,
 "nbformat_minor": 2
}
